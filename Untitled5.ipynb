{
  "nbformat": 4,
  "nbformat_minor": 0,
  "metadata": {
    "colab": {
      "provenance": [],
      "toc_visible": true
    },
    "kernelspec": {
      "name": "python3",
      "display_name": "Python 3"
    },
    "language_info": {
      "name": "python"
    }
  },
  "cells": [
    {
      "cell_type": "code",
      "metadata": {
        "colab": {
          "base_uri": "https://localhost:8080/"
        },
        "id": "e61b8073",
        "outputId": "8d7be108-8a44-44ef-8c54-a5b059e88073"
      },
      "source": [
        "!apt-get update\n",
        "!apt-get install tesseract-ocr\n",
        "!pip install pytesseract"
      ],
      "execution_count": 2,
      "outputs": [
        {
          "output_type": "stream",
          "name": "stdout",
          "text": [
            "\r0% [Working]\r            \rHit:1 https://cli.github.com/packages stable InRelease\n",
            "\r0% [Connecting to archive.ubuntu.com (185.125.190.81)] [Connecting to security.\r                                                                               \rGet:2 https://developer.download.nvidia.com/compute/cuda/repos/ubuntu2204/x86_64  InRelease [1,581 B]\n",
            "Get:3 https://cloud.r-project.org/bin/linux/ubuntu jammy-cran40/ InRelease [3,632 B]\n",
            "Get:4 http://security.ubuntu.com/ubuntu jammy-security InRelease [129 kB]\n",
            "Get:5 https://r2u.stat.illinois.edu/ubuntu jammy InRelease [6,555 B]\n",
            "Hit:6 http://archive.ubuntu.com/ubuntu jammy InRelease\n",
            "Get:7 http://archive.ubuntu.com/ubuntu jammy-updates InRelease [128 kB]\n",
            "Get:8 https://developer.download.nvidia.com/compute/cuda/repos/ubuntu2204/x86_64  Packages [1,942 kB]\n",
            "Get:9 https://cloud.r-project.org/bin/linux/ubuntu jammy-cran40/ Packages [80.2 kB]\n",
            "Hit:10 https://ppa.launchpadcontent.net/deadsnakes/ppa/ubuntu jammy InRelease\n",
            "Get:11 https://ppa.launchpadcontent.net/graphics-drivers/ppa/ubuntu jammy InRelease [24.3 kB]\n",
            "Get:12 https://r2u.stat.illinois.edu/ubuntu jammy/main all Packages [9,209 kB]\n",
            "Get:13 http://archive.ubuntu.com/ubuntu jammy-backports InRelease [127 kB]\n",
            "Hit:14 https://ppa.launchpadcontent.net/ubuntugis/ppa/ubuntu jammy InRelease\n",
            "Get:15 https://r2u.stat.illinois.edu/ubuntu jammy/main amd64 Packages [2,783 kB]\n",
            "Get:16 http://security.ubuntu.com/ubuntu jammy-security/restricted amd64 Packages [5,340 kB]\n",
            "Get:17 http://archive.ubuntu.com/ubuntu jammy-updates/main amd64 Packages [3,620 kB]\n",
            "Get:18 https://ppa.launchpadcontent.net/graphics-drivers/ppa/ubuntu jammy/main amd64 Packages [42.7 kB]\n",
            "Get:19 http://security.ubuntu.com/ubuntu jammy-security/main amd64 Packages [3,297 kB]\n",
            "Get:20 http://security.ubuntu.com/ubuntu jammy-security/universe amd64 Packages [1,272 kB]\n",
            "Get:21 http://archive.ubuntu.com/ubuntu jammy-updates/universe amd64 Packages [1,579 kB]\n",
            "Get:22 http://archive.ubuntu.com/ubuntu jammy-updates/restricted amd64 Packages [5,552 kB]\n",
            "Fetched 35.1 MB in 3s (10.3 MB/s)\n",
            "Reading package lists... Done\n",
            "W: Skipping acquire of configured file 'main/source/Sources' as repository 'https://r2u.stat.illinois.edu/ubuntu jammy InRelease' does not seem to provide it (sources.list entry misspelt?)\n",
            "Reading package lists... Done\n",
            "Building dependency tree... Done\n",
            "Reading state information... Done\n",
            "tesseract-ocr is already the newest version (4.1.1-2.1build1).\n",
            "0 upgraded, 0 newly installed, 0 to remove and 41 not upgraded.\n",
            "Collecting pytesseract\n",
            "  Downloading pytesseract-0.3.13-py3-none-any.whl.metadata (11 kB)\n",
            "Requirement already satisfied: packaging>=21.3 in /usr/local/lib/python3.12/dist-packages (from pytesseract) (25.0)\n",
            "Requirement already satisfied: Pillow>=8.0.0 in /usr/local/lib/python3.12/dist-packages (from pytesseract) (11.3.0)\n",
            "Downloading pytesseract-0.3.13-py3-none-any.whl (14 kB)\n",
            "Installing collected packages: pytesseract\n",
            "Successfully installed pytesseract-0.3.13\n"
          ]
        }
      ]
    },
    {
      "cell_type": "code",
      "metadata": {
        "colab": {
          "base_uri": "https://localhost:8080/"
        },
        "id": "2d85234b",
        "outputId": "4337204a-6c77-4448-e4fc-6de086f3cdb3"
      },
      "source": [
        "import pytesseract\n",
        "from PIL import Image\n",
        "\n",
        "# Point to the Tesseract executable\n",
        "pytesseract.pytesseract.tesseract_cmd = r'/usr/bin/tesseract'\n",
        "\n",
        "# Open an image (you will need to upload your image file to Colab and provide the correct path here)\n",
        "# Example: img = Image.open('/content/prescription_2025-09-02_16-20-2.png')\n",
        "# For demonstration, let's use a placeholder. Replace this with your image path.\n",
        "# Make sure the file path below points to an image file you have uploaded to your Colab environment.\n",
        "try:\n",
        "    img = Image.open(r\"/prescription_2025-09-02_16-20-2.png\") # Replace '/content/your_image.png' with the actual path to your image file\n",
        "    # Extract text\n",
        "    text = pytesseract.image_to_string(img)\n",
        "\n",
        "    print(\"📝 OCR Output:\")\n",
        "    print(text)\n",
        "except FileNotFoundError:\n",
        "    print(\"Error: Image file not found. Please upload your image and update the file path.\")"
      ],
      "execution_count": 8,
      "outputs": [
        {
          "output_type": "stream",
          "name": "stdout",
          "text": [
            "📝 OCR Output:\n",
            "Date: Sep 2, 2025\n",
            "\n",
            "Apollo Hospitals, New Delhi\n",
            "\n",
            "Dr. Arjun Mehta\n",
            "\n",
            "MBBS, MD (Internal Medicine)\n",
            "Apollo Hospital, Sector 18, New Delhi\n",
            "Reg. No. DMC/2021/3456\n",
            "+91-9876543210\n",
            "PTR# 4587, DEA# AM-5642\n",
            "\n",
            " \n",
            "\n",
            "Random Blood Sugar: 285 mg/dl\n",
            "HbA1c: 9.2%\n",
            "BP: 132/84 mmHg\n",
            "\n",
            "Mild peripheral neuropathy\n",
            "\n",
            "Ss\n",
            "\n",
            "* Inj. Insulin Glargine (Lantus) 100 IU/ml 20 unit Subcutaneous After meals\n",
            "Every night at bedtime 50 days --- 1000\n",
            "\n",
            "* Inj. Insulin Lispro (Humalog) 100 IU/ml 60 unit Subcutaneous Before\n",
            "meals Thrice daily 18 days --- 1000\n",
            "\n",
            "* Tab. Metformin 500 mg 1 unit Oral After meals Twice daily 30 days --- 60\n",
            "\n",
            "* Tab. Telmisartan 40 mg 1 unit Oral Before meals Once a day 30 days ---\n",
            "30\n",
            "\n",
            "Investigations\n",
            "FBS, PPBS, HbA1c — done\n",
            "\n",
            "Lipid Profile — pending\n",
            "\n",
            "Kidney Function Tests — pending\n",
            "\n",
            "Dr. Arjun Mehta\n",
            "\n",
            "MBBS, MD (Internal Medicine) Made by Prescription Maker\n",
            "Reg. No. DMC/2021/3456 www.digitalprescriptionmaker.com\n",
            "\f\n"
          ]
        }
      ]
    },
    {
      "cell_type": "code",
      "source": [
        "import re\n",
        "import sqlite3\n",
        "import schedule\n",
        "import time\n",
        "\n",
        "# -------------------------\n",
        "# Step 1: Prescription Text (replace later with OCR output)\n",
        "# -------------------------\n",
        "prescription_text = \"\"\"\n",
        "Inj. Insulin Glargine (Lantus) 100 IU/ml 20 unit Subcutaneous After meals Every night at bedtime 50 days --- 1000\n",
        "Inj. Insulin Lispro (Humalog) 100 IU/ml 60 unit Subcutaneous Before meals Thrice daily 18 days --- 1000\n",
        "Tab. Metformin 500 mg 1 unit Oral After meals Twice daily 30 days --- 60\n",
        "Tab. Telmisartan 40 mg 1 unit Oral Before meals Once a day 30 days --- 30\n",
        "\"\"\"\n",
        "\n",
        "# -------------------------\n",
        "# Step 2: Regex to Extract Medicines\n",
        "# -------------------------\n",
        "pattern = r\"(Inj\\.|Tab\\.)\\s+([A-Za-z\\s]+)(?:\\([^)]+\\))?\\s*([\\d]+ ?(?:mg|IU/ml)?)?.*?(Once a day|Twice daily|Thrice daily|Every night at bedtime)\"\n",
        "matches = re.findall(pattern, prescription_text)\n",
        "\n",
        "# -------------------------\n",
        "# Step 3: Frequency → Reminder Times Mapping\n",
        "# -------------------------\n",
        "frequency_to_times = {\n",
        "    \"Once a day\": [\"08:00\"],\n",
        "    \"Twice daily\": [\"08:00\", \"20:00\"],\n",
        "    \"Thrice daily\": [\"08:00\", \"14:00\", \"20:00\"],\n",
        "    \"Every night at bedtime\": [\"22:00\"]\n",
        "}\n",
        "\n",
        "# -------------------------\n",
        "# Step 4: Setup SQLite Database (Recreate Table Fresh)\n",
        "# -------------------------\n",
        "conn = sqlite3.connect(\"meds.db\")\n",
        "c = conn.cursor()\n",
        "\n",
        "c.execute(\"DROP TABLE IF EXISTS meds\")  # reset old schema\n",
        "c.execute(\"\"\"\n",
        "CREATE TABLE meds (\n",
        "    id INTEGER PRIMARY KEY,\n",
        "    form TEXT,\n",
        "    name TEXT,\n",
        "    strength TEXT,\n",
        "    frequency TEXT,\n",
        "    reminder_times TEXT\n",
        ")\n",
        "\"\"\")\n",
        "\n",
        "c.execute(\"DROP TABLE IF EXISTS logs\")  # extra table for tracking taken/missed\n",
        "c.execute(\"\"\"\n",
        "CREATE TABLE logs (\n",
        "    id INTEGER PRIMARY KEY,\n",
        "    med_id INTEGER,\n",
        "    status TEXT,\n",
        "    timestamp DATETIME DEFAULT CURRENT_TIMESTAMP\n",
        ")\n",
        "\"\"\")\n",
        "\n",
        "# Insert extracted meds\n",
        "for form, name, strength, freq in matches:\n",
        "    times = \",\".join(frequency_to_times.get(freq, [\"08:00\"]))\n",
        "    c.execute(\"INSERT INTO meds (form, name, strength, frequency, reminder_times) VALUES (?, ?, ?, ?, ?)\",\n",
        "              (form, name.strip(), strength, freq, times))\n",
        "\n",
        "conn.commit()\n",
        "conn.close()\n",
        "\n",
        "print(\"✅ Medicines saved to database\")\n",
        "\n",
        "# -------------------------\n",
        "# Step 5: Scheduler to Send Reminders\n",
        "# -------------------------\n",
        "def send_reminder(med_name, strength, reminder_time):\n",
        "    print(f\"⏰ Reminder: Take {med_name} ({strength}) at {reminder_time}\")\n",
        "    # later replace with WhatsApp send function\n",
        "\n",
        "def load_meds_and_schedule():\n",
        "    conn = sqlite3.connect(\"meds.db\")\n",
        "    c = conn.cursor()\n",
        "    c.execute(\"SELECT id, name, strength, reminder_times FROM meds\")\n",
        "    meds = c.fetchall()\n",
        "    conn.close()\n",
        "\n",
        "    for med_id, name, strength, reminder_times in meds:\n",
        "        times = reminder_times.split(\",\")\n",
        "        for reminder_time in times:\n",
        "            schedule.every().day.at(reminder_time).do(send_reminder, name, strength, reminder_time)\n",
        "\n",
        "# Load into scheduler\n",
        "load_meds_and_schedule()\n",
        "print(\"✅ Reminder system started... waiting for scheduled times.\")\n",
        "\n",
        "# Run forever\n",
        "while True:\n",
        "    schedule.run_pending()\n",
        "    time.sleep(1)\n"
      ],
      "metadata": {
        "colab": {
          "base_uri": "https://localhost:8080/",
          "height": 211
        },
        "id": "W060iy_pSMRY",
        "outputId": "26842019-7858-4b5b-ee83-314d9371f3a4"
      },
      "execution_count": 11,
      "outputs": [
        {
          "output_type": "stream",
          "name": "stdout",
          "text": [
            "✅ Medicines saved to database\n",
            "✅ Reminder system started... waiting for scheduled times.\n"
          ]
        },
        {
          "output_type": "error",
          "ename": "KeyboardInterrupt",
          "evalue": "",
          "traceback": [
            "\u001b[0;31m---------------------------------------------------------------------------\u001b[0m",
            "\u001b[0;31mKeyboardInterrupt\u001b[0m                         Traceback (most recent call last)",
            "\u001b[0;32m/tmp/ipython-input-547404594.py\u001b[0m in \u001b[0;36m<cell line: 0>\u001b[0;34m()\u001b[0m\n\u001b[1;32m     95\u001b[0m \u001b[0;32mwhile\u001b[0m \u001b[0;32mTrue\u001b[0m\u001b[0;34m:\u001b[0m\u001b[0;34m\u001b[0m\u001b[0;34m\u001b[0m\u001b[0m\n\u001b[1;32m     96\u001b[0m     \u001b[0mschedule\u001b[0m\u001b[0;34m.\u001b[0m\u001b[0mrun_pending\u001b[0m\u001b[0;34m(\u001b[0m\u001b[0;34m)\u001b[0m\u001b[0;34m\u001b[0m\u001b[0;34m\u001b[0m\u001b[0m\n\u001b[0;32m---> 97\u001b[0;31m     \u001b[0mtime\u001b[0m\u001b[0;34m.\u001b[0m\u001b[0msleep\u001b[0m\u001b[0;34m(\u001b[0m\u001b[0;36m1\u001b[0m\u001b[0;34m)\u001b[0m\u001b[0;34m\u001b[0m\u001b[0;34m\u001b[0m\u001b[0m\n\u001b[0m",
            "\u001b[0;31mKeyboardInterrupt\u001b[0m: "
          ]
        }
      ]
    },
    {
      "cell_type": "code",
      "metadata": {
        "colab": {
          "base_uri": "https://localhost:8080/"
        },
        "id": "b775eeea",
        "outputId": "ddc9df2b-8149-4d7c-a4a1-dc01cace6db6"
      },
      "source": [
        "!pip install schedule"
      ],
      "execution_count": 10,
      "outputs": [
        {
          "output_type": "stream",
          "name": "stdout",
          "text": [
            "Collecting schedule\n",
            "  Downloading schedule-1.2.2-py3-none-any.whl.metadata (3.8 kB)\n",
            "Downloading schedule-1.2.2-py3-none-any.whl (12 kB)\n",
            "Installing collected packages: schedule\n",
            "Successfully installed schedule-1.2.2\n"
          ]
        }
      ]
    },
    {
      "cell_type": "code",
      "source": [],
      "metadata": {
        "id": "Mg14WukYUeUV"
      },
      "execution_count": null,
      "outputs": []
    }
  ]
}